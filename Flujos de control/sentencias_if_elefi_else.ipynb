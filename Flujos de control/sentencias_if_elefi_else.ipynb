{
 "cells": [
  {
   "cell_type": "code",
   "execution_count": 1,
   "metadata": {},
   "outputs": [],
   "source": [
    "a=5\n",
    "b=7\n"
   ]
  },
  {
   "cell_type": "code",
   "execution_count": 8,
   "metadata": {},
   "outputs": [
    {
     "name": "stdout",
     "output_type": "stream",
     "text": [
      "a es menor a b\n"
     ]
    }
   ],
   "source": [
    "if a<b:\n",
    "    print(\"a es menor a b\")\n",
    "elif a>b:\n",
    "    print (\"a es mayor a b\")\n",
    "else:\n",
    "    print (\"que a y b son iguales\")\n"
   ]
  },
  {
   "cell_type": "markdown",
   "metadata": {},
   "source": [
    "vamos a crear un error para darnos cuenta la importancia de los :\n",
    "y de la importancia de leer lo que nos tira cuando es error leerlo en ingles alli nos explica donde y esta el error y como solucionarlo\n"
   ]
  },
  {
   "cell_type": "code",
   "execution_count": 10,
   "metadata": {},
   "outputs": [
    {
     "ename": "SyntaxError",
     "evalue": "expected ':' (1576797979.py, line 2)",
     "output_type": "error",
     "traceback": [
      "\u001b[1;36m  Cell \u001b[1;32mIn[10], line 2\u001b[1;36m\u001b[0m\n\u001b[1;33m    if x<0\u001b[0m\n\u001b[1;37m          ^\u001b[0m\n\u001b[1;31mSyntaxError\u001b[0m\u001b[1;31m:\u001b[0m expected ':'\n"
     ]
    }
   ],
   "source": [
    "x=10\n",
    "if x<0         #una flecha nos indica el lugar luego del 0 donde deberian ir los :\n",
    "print(\"es positvo\")"
   ]
  },
  {
   "cell_type": "code",
   "execution_count": 17,
   "metadata": {},
   "outputs": [
    {
     "name": "stdout",
     "output_type": "stream",
     "text": [
      "es positvo\n"
     ]
    }
   ],
   "source": [
    "x=10\n",
    "if x>0:\n",
    "    print(\"es positvo\")"
   ]
  },
  {
   "cell_type": "code",
   "execution_count": 18,
   "metadata": {},
   "outputs": [
    {
     "name": "stdout",
     "output_type": "stream",
     "text": [
      "soy menor\n"
     ]
    }
   ],
   "source": [
    "num=5\n",
    "if num>10:\n",
    "    print(\"soy mayor\")\n",
    "\n",
    "elif num<10:\n",
    "    print(\"soy menor\")\n",
    "else:\n",
    "   print(\"soy igual\")\n",
    "\n"
   ]
  },
  {
   "cell_type": "code",
   "execution_count": 26,
   "metadata": {},
   "outputs": [
    {
     "name": "stdout",
     "output_type": "stream",
     "text": [
      "soy menor\n"
     ]
    }
   ],
   "source": [
    "num=20\n",
    "if num>30:\n",
    "    print(\"soy mayor\")\n",
    "elif num<30:\n",
    "    print(\"soy menor\")\n",
    "else:\n",
    "    print(\"soy igual\")\n"
   ]
  },
  {
   "cell_type": "markdown",
   "metadata": {},
   "source": [
    "EN CUANTO LA CONDICION ES VERDADERA SE EJECUTA UN SOLO CODIGO , POR MAS QUE EL ReSTO TAMBIREN SEA DE IGUAL O MENOR  VALOR POR EJEMPLO: "
   ]
  },
  {
   "cell_type": "code",
   "execution_count": 40,
   "metadata": {},
   "outputs": [
    {
     "name": "stdout",
     "output_type": "stream",
     "text": [
      "soy menor que 10 y como estoy primero me voy a ejecutar\n"
     ]
    }
   ],
   "source": [
    "num=5\n",
    "if num>10:\n",
    "    print(\"soy mayor\")\n",
    "elif num<10: \n",
    "    print(\"soy menor que 10 y como estoy primero me voy a ejecutar\")\n",
    "elif num<7:\n",
    "    print(\"tambien soy menor\")\n",
    "else:\n",
    "    print (\"soy igual\")"
   ]
  },
  {
   "cell_type": "markdown",
   "metadata": {},
   "source": [
    "en est clase pudimos aprender que es un flujo de controly como se usan las condicionales con su  sentencia IF-ELIF-ELF\n",
    "la importancia que tiene el codigo y ta,bien la gran ayuda que nos va a representar el leer los codigos en pos de poder corregirlos"
   ]
  },
  {
   "cell_type": "code",
   "execution_count": null,
   "metadata": {},
   "outputs": [],
   "source": []
  }
 ],
 "metadata": {
  "kernelspec": {
   "display_name": "Python 3",
   "language": "python",
   "name": "python3"
  },
  "language_info": {
   "codemirror_mode": {
    "name": "ipython",
    "version": 3
   },
   "file_extension": ".py",
   "mimetype": "text/x-python",
   "name": "python",
   "nbconvert_exporter": "python",
   "pygments_lexer": "ipython3",
   "version": "3.12.1"
  }
 },
 "nbformat": 4,
 "nbformat_minor": 2
}
